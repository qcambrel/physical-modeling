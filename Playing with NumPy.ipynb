{
 "cells": [
  {
   "cell_type": "markdown",
   "metadata": {},
   "source": [
    "## Playing with NumPy\n",
    "Some snippets from Chapter 2 of \"A Student's Guide to Python for Physical Modeling\". A lot more focus is placed on NumPy as I have a much stronger grasp of native Python data types (list, tuples, strings, etc.). I also skinned past NumPy features that I was already very accustomed to."
   ]
  },
  {
   "cell_type": "code",
   "execution_count": 1,
   "metadata": {},
   "outputs": [],
   "source": [
    "import numpy as np"
   ]
  },
  {
   "cell_type": "markdown",
   "metadata": {},
   "source": [
    "### 2.2 Lists, Tuples, and Arrays"
   ]
  },
  {
   "cell_type": "markdown",
   "metadata": {},
   "source": [
    "#### 2.2.7 Slicing"
   ]
  },
  {
   "cell_type": "markdown",
   "metadata": {},
   "source": [
    "##### Your Turn 2D"
   ]
  },
  {
   "cell_type": "markdown",
   "metadata": {},
   "source": [
    "Explain the output you get from each line. Can you construct a slicing\n",
    "operation that returns only the odd entries of a?"
   ]
  },
  {
   "cell_type": "code",
   "execution_count": 51,
   "metadata": {},
   "outputs": [
    {
     "name": "stdout",
     "output_type": "stream",
     "text": [
      "[ 0  1  2  3  4  5  6  7  8  9 10 11 12 13 14 15 16 17 18 19]\n",
      "[ 0  1  2  3  4  5  6  7  8  9 10 11 12 13 14 15 16 17 18 19]\n",
      "[ 5  6  7  8  9 10 11 12 13 14]\n"
     ]
    },
    {
     "data": {
      "text/plain": [
       "array([ 1,  3,  5,  7,  9, 11, 13, 15, 17, 19])"
      ]
     },
     "execution_count": 51,
     "metadata": {},
     "output_type": "execute_result"
    }
   ],
   "source": [
    "a = np.arange(20)\n",
    "a[:]      # Returns all elements\n",
    "a[::]     # Returns all elements\n",
    "a[5:15]   # Returns a sliced array ranging from index 5 to index 14\n",
    "a[5:15:3] # Returns a sliced array ranging from index 5 to index 14 in steps of 3\n",
    "a[5::]    # Returns a sliced array starting at index 5\n",
    "a[:5:]    # Returns a sliced array ending with index 4\n",
    "a[::5]    # Returns a sliced array ranging start to end of array a in steps of 5\n",
    "\n",
    "a[1::2]   # Returns only the odd elements of array a"
   ]
  },
  {
   "cell_type": "markdown",
   "metadata": {},
   "source": [
    "#### 2.2.4 Concatentation of arrays"
   ]
  },
  {
   "cell_type": "markdown",
   "metadata": {},
   "source": [
    "Looking at np.hstack (horizontal stack) and np.vstack (vertical stack)."
   ]
  },
  {
   "cell_type": "code",
   "execution_count": 13,
   "metadata": {},
   "outputs": [
    {
     "name": "stdout",
     "output_type": "stream",
     "text": [
      "[[0. 0. 0. 1. 1. 1.]\n",
      " [0. 0. 0. 1. 1. 1.]]\n",
      "[[0. 0. 0.]\n",
      " [0. 0. 0.]\n",
      " [1. 1. 1.]\n",
      " [1. 1. 1.]]\n"
     ]
    }
   ],
   "source": [
    "a = np.zeros((2,3))\n",
    "b = np.ones((2,3))\n",
    "# It is important that a and b have the same number of rows\n",
    "# for hstack and the same number of columns for vstack.\n",
    "h = np.hstack([a,b]) # Concatenates arrays a and b horizontally\n",
    "v = np.vstack([a,b]) # Concatenates arrays a and b vertically\n",
    "\n",
    "print(h)\n",
    "print(v)"
   ]
  },
  {
   "cell_type": "markdown",
   "metadata": {},
   "source": [
    "#### 2.2.8 Flattening an array"
   ]
  },
  {
   "cell_type": "markdown",
   "metadata": {},
   "source": [
    "Working with ravel and flatten respectively and exploring their differences."
   ]
  },
  {
   "cell_type": "code",
   "execution_count": 3,
   "metadata": {},
   "outputs": [
    {
     "name": "stdout",
     "output_type": "stream",
     "text": [
      "[[ 1  2]\n",
      " [22  1]]\n",
      "[ 1 11  2  1]\n",
      "[ 1  2 22  1]\n",
      "[ 1  2 22  1]\n"
     ]
    }
   ],
   "source": [
    "a = np.array([[1,2],[2,1]])\n",
    "b = a.flatten()\n",
    "c = np.ravel(a)\n",
    "d = a.ravel()\n",
    "\n",
    "# Flatten creates a new separate array. \n",
    "# However, ravel creates an array that still references the original one.\n",
    "b[1] = 11\n",
    "c[2] = 22\n",
    "print(a)\n",
    "print(b)\n",
    "print(c)\n",
    "print(d)"
   ]
  },
  {
   "cell_type": "markdown",
   "metadata": {},
   "source": [
    "#### 2.2.9 Reshaping an array"
   ]
  },
  {
   "cell_type": "markdown",
   "metadata": {},
   "source": [
    "Numpy array shape and reshape."
   ]
  },
  {
   "cell_type": "code",
   "execution_count": 5,
   "metadata": {},
   "outputs": [
    {
     "name": "stdout",
     "output_type": "stream",
     "text": [
      "[ 0  1  2  3  4  5  6  7  8  9 10 11]\n",
      "[[ 0  1  2  3]\n",
      " [ 4  5  6  7]\n",
      " [ 8  9 10 11]]\n",
      "[[ 0  1  2  3  4  5]\n",
      " [ 6  7  8  9 10 11]]\n",
      "[[[ 0  1]\n",
      "  [ 2  3]\n",
      "  [ 4  5]]\n",
      "\n",
      " [[ 6  7]\n",
      "  [ 8  9]\n",
      "  [10 11]]]\n"
     ]
    }
   ],
   "source": [
    "a = np.arange(12)\n",
    "b = np.reshape(a, (3,4))\n",
    "c = b.reshape((2,6))\n",
    "d = c.reshape((2,3,2))\n",
    "\n",
    "# Reshape requires that the requested shape be consistent \n",
    "# with the number of elements that the source array contains.\n",
    "print(a)\n",
    "print(b)\n",
    "print(c)\n",
    "print(d)"
   ]
  },
  {
   "cell_type": "markdown",
   "metadata": {},
   "source": [
    "#### 2.2.10 Lists and arrays as indices"
   ]
  },
  {
   "cell_type": "markdown",
   "metadata": {},
   "source": [
    "You can use a Boolean array for logical indexing - something that is very new to me!"
   ]
  },
  {
   "cell_type": "code",
   "execution_count": 12,
   "metadata": {},
   "outputs": [
    {
     "name": "stdout",
     "output_type": "stream",
     "text": [
      "[-4 -3 -2 -1  0  1  2  3  4]\n"
     ]
    }
   ],
   "source": [
    "a = np.arange(-10,11)\n",
    "less_than_five = (abs(a) < 5) # Applies the abs() function to mutate the NumPy array \n",
    "                              # then applies < 5 to create a Boolean array\n",
    "b = a[less_than_five]         # Logical indexing!\n",
    "\n",
    "# Alternatively\n",
    "b = a[abs(a) < 5]\n",
    "print(b)"
   ]
  },
  {
   "cell_type": "markdown",
   "metadata": {},
   "source": [
    "### 2.5 Array Operations"
   ]
  },
  {
   "cell_type": "markdown",
   "metadata": {},
   "source": [
    "#### 2.5.1 Vectorizing Math"
   ]
  },
  {
   "cell_type": "markdown",
   "metadata": {},
   "source": [
    "With vectorization, you apply an operation to an entire array instead of a scalar."
   ]
  },
  {
   "cell_type": "code",
   "execution_count": 16,
   "metadata": {},
   "outputs": [
    {
     "data": {
      "text/plain": [
       "array([1.        , 0.64611063, 0.56350833, 0.51316702, 0.47722558,\n",
       "       0.44948974, 0.42705098, 0.40830698, 0.39228096, 0.37833393])"
      ]
     },
     "execution_count": 16,
     "metadata": {},
     "output_type": "execute_result"
    }
   ],
   "source": [
    "# Quadratic formula applied over array a\n",
    "b, c = 2, -1\n",
    "a = np.arange(-1,2,0.3)\n",
    "(-b + np.sqrt(b**2-4*a*c))/(2*a) # Several instances of scalar multiplication of a vector"
   ]
  },
  {
   "cell_type": "markdown",
   "metadata": {},
   "source": [
    "##### Your Turn 2F (a)\n",
    "a. We often wish to evaluate the function y = e^−(x^2) over a range of x\n",
    "values. Figure out how to code this in vectorized notation."
   ]
  },
  {
   "cell_type": "code",
   "execution_count": 24,
   "metadata": {},
   "outputs": [
    {
     "data": {
      "text/plain": [
       "array([1.00000000e+00, 9.13931185e-01, 6.97676326e-01, 4.44858066e-01,\n",
       "       2.36927759e-01, 1.05399225e-01, 3.91638951e-02, 1.21551783e-02,\n",
       "       3.15111160e-03, 6.82328053e-04, 1.23409804e-04, 1.86437423e-05,\n",
       "       2.35257520e-06, 2.47959602e-07])"
      ]
     },
     "execution_count": 24,
     "metadata": {},
     "output_type": "execute_result"
    }
   ],
   "source": [
    "x = np.arange(0,4,0.3) # An arbitrary array\n",
    "y = np.exp(-1*(x**2))  # NumPy provides an exponential (e) function\n",
    "y"
   ]
  },
  {
   "cell_type": "markdown",
   "metadata": {},
   "source": [
    "##### Your Turn 2F (b)\n",
    "b. We often wish to evaluate the function e^(−µ)µ^n/(n!) over the integer values n = 0, 1,..., N. Here, the exclamation point denotes the factorial function. Figure out how to code this in vectorized notation for N = 10 and µ = 2. (You may want to import the factorial function from SciPy’s collection of special functions, scipy.special.)"
   ]
  },
  {
   "cell_type": "code",
   "execution_count": 18,
   "metadata": {},
   "outputs": [],
   "source": [
    "from scipy.special import factorial"
   ]
  },
  {
   "cell_type": "code",
   "execution_count": 22,
   "metadata": {},
   "outputs": [
    {
     "data": {
      "text/plain": [
       "array([1.35335283e-01, 2.70670566e-01, 2.70670566e-01, 1.80447044e-01,\n",
       "       9.02235222e-02, 3.60894089e-02, 1.20298030e-02, 3.43708656e-03,\n",
       "       8.59271640e-04, 1.90949253e-04, 3.81898506e-05])"
      ]
     },
     "execution_count": 22,
     "metadata": {},
     "output_type": "execute_result"
    }
   ],
   "source": [
    "N, mu = 10, 2\n",
    "n = np.arange(N+1)\n",
    "(np.exp(-1*mu)*mu**n)/factorial(n)"
   ]
  },
  {
   "cell_type": "markdown",
   "metadata": {},
   "source": [
    "Performing the dot product with NumPy."
   ]
  },
  {
   "cell_type": "code",
   "execution_count": 27,
   "metadata": {},
   "outputs": [
    {
     "data": {
      "text/plain": [
       "1.23"
      ]
     },
     "execution_count": 27,
     "metadata": {},
     "output_type": "execute_result"
    }
   ],
   "source": [
    "a = np.array([1,2,3])\n",
    "b = np.array([1,0.1,0.01])\n",
    "a*b\n",
    "np.dot(a, b) # The dot product is easy to perform here as a and b have the same length."
   ]
  },
  {
   "cell_type": "markdown",
   "metadata": {},
   "source": [
    "#### 2.5.2 Reducing an array"
   ]
  },
  {
   "cell_type": "markdown",
   "metadata": {},
   "source": [
    "Array reduction occurs when an operation combines elements of an array resulting in a smaller array."
   ]
  },
  {
   "cell_type": "code",
   "execution_count": 36,
   "metadata": {},
   "outputs": [
    {
     "name": "stdout",
     "output_type": "stream",
     "text": [
      "Concatenated array a\n",
      "[[  0   1   2   3   4   5   6   7   8   9  10  11  12  13  14  15  16  17\n",
      "   18  19]\n",
      " [100 101 102 103 104 105 106 107 108 109 110 111 112 113 114 115 116 117\n",
      "  118 119]]\n",
      "\n",
      "Sum of array a over axis=0\n",
      "[100 102 104 106 108 110 112 114 116 118 120 122 124 126 128 130 132 134\n",
      " 136 138]\n",
      "\n",
      "Sum of array a over axis=1\n",
      "[ 190 2190]\n",
      "\n",
      "Sum of array a\n",
      "2380\n"
     ]
    }
   ],
   "source": [
    "a = np.vstack((np.arange(20),np.arange(100,120))) # Concentate two arrays vertically\n",
    "b = np.sum(a,0) # Sums columns of a\n",
    "c = np.sum(a,1) # Sums rows of a\n",
    "d = np.sum(a)   # Sums all of a\n",
    "\n",
    "print(\"Concatenated array a\")\n",
    "print(a)\n",
    "print(\"\\nSum of array a over axis=0\")\n",
    "print(b)\n",
    "print(\"\\nSum of array a over axis=1\")\n",
    "print(c)\n",
    "print(\"\\nSum of array a\")\n",
    "print(d)"
   ]
  },
  {
   "cell_type": "markdown",
   "metadata": {},
   "source": [
    "See if you can explain how the following code calculates 10!:"
   ]
  },
  {
   "cell_type": "code",
   "execution_count": 37,
   "metadata": {},
   "outputs": [
    {
     "data": {
      "text/plain": [
       "3628800"
      ]
     },
     "execution_count": 37,
     "metadata": {},
     "output_type": "execute_result"
    }
   ],
   "source": [
    "ten_factorial = np.arange(1,11).prod()\n",
    "# np.arange(1,11) creates an array spanning from 1 to 10 in steps of 1.\n",
    "# prod() then computes the product of all the elements in the array.\n",
    "# (10*9*8*..*1) is equivalent to 10!\n",
    "\n",
    "ten_factorial"
   ]
  }
 ],
 "metadata": {
  "kernelspec": {
   "display_name": "Python 3",
   "language": "python",
   "name": "python3"
  },
  "language_info": {
   "codemirror_mode": {
    "name": "ipython",
    "version": 3
   },
   "file_extension": ".py",
   "mimetype": "text/x-python",
   "name": "python",
   "nbconvert_exporter": "python",
   "pygments_lexer": "ipython3",
   "version": "3.8.5"
  }
 },
 "nbformat": 4,
 "nbformat_minor": 4
}
